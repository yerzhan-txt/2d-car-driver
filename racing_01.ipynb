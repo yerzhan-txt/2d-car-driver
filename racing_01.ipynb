{
 "cells": [
  {
   "cell_type": "code",
   "execution_count": 1,
   "id": "73d8b0d4-a146-42ad-8b61-b5df9a47db5d",
   "metadata": {
    "tags": []
   },
   "outputs": [],
   "source": [
    "import sys\n",
    "#sys.path.append('/Users/z5288866/.venvs/pnd_env/lib/python3.9/site-packages')"
   ]
  },
  {
   "cell_type": "code",
   "execution_count": 10,
   "id": "a336a9dc-9f72-4bd6-9e41-7a53bcfa8bcb",
   "metadata": {
    "tags": []
   },
   "outputs": [
    {
     "name": "stdout",
     "output_type": "stream",
     "text": [
      "Draw by dragging the mouse like in MS Paint. Press ESC when finished.\n",
      "Saved path with 575 points to 'path.npy'\n"
     ]
    }
   ],
   "source": [
    "import numpy as np\n",
    "import cv2\n",
    "import matplotlib.pyplot as plt\n",
    "import imageio\n",
    "\n",
    "# Configurations\n",
    "canvas_size = 100\n",
    "scale = 5  # Display scaling (for easier drawing)\n",
    "drawing = False\n",
    "path_points = []\n",
    "\n",
    "# Create white canvas\n",
    "img = np.ones((canvas_size * scale, canvas_size * scale), dtype=np.uint8) * 255\n",
    "img_color = cv2.cvtColor(img, cv2.COLOR_GRAY2BGR)\n",
    "\n",
    "def draw(event, x, y, flags, param):\n",
    "    global drawing, path_points, img_color\n",
    "\n",
    "    if event == cv2.EVENT_LBUTTONDOWN:\n",
    "        drawing = True\n",
    "        path_points.append((x, y))\n",
    "        cv2.circle(img_color, (x, y), 1, (0, 0, 255), -1)\n",
    "\n",
    "    elif event == cv2.EVENT_MOUSEMOVE:\n",
    "        if drawing:\n",
    "            path_points.append((x, y))\n",
    "            cv2.line(img_color, path_points[-2], path_points[-1], (0, 0, 255), 1)\n",
    "\n",
    "    elif event == cv2.EVENT_LBUTTONUP:\n",
    "        drawing = False\n",
    "\n",
    "cv2.namedWindow(\"Draw Path\")\n",
    "cv2.setMouseCallback(\"Draw Path\", draw)\n",
    "\n",
    "print(\"Draw by dragging the mouse like in MS Paint. Press ESC when finished.\")\n",
    "\n",
    "while True:\n",
    "    cv2.imshow(\"Draw Path\", img_color)\n",
    "    if cv2.waitKey(1) & 0xFF == 27:  # ESC\n",
    "        break\n",
    "\n",
    "cv2.destroyAllWindows()\n",
    "\n",
    "# Downscale to 100x100 coordinates\n",
    "path_array = np.array([(x / scale, y / scale) for (x, y) in path_points], dtype=np.float32)\n",
    "np.save(\"path.npy\", path_array)\n",
    "print(f\"Saved path with {len(path_array)} points to 'path.npy'\")\n"
   ]
  },
  {
   "cell_type": "code",
   "execution_count": 11,
   "id": "935461b4-8134-4d7a-8793-709c61fd5cb2",
   "metadata": {
    "tags": []
   },
   "outputs": [
    {
     "name": "stdout",
     "output_type": "stream",
     "text": [
      "(575, 2)\n"
     ]
    }
   ],
   "source": [
    "import numpy as np\n",
    "path = np.load(\"path.npy\")\n",
    "print(path.shape)  # (N, 2)"
   ]
  },
  {
   "cell_type": "code",
   "execution_count": 12,
   "id": "d7fe16c5-9657-4d51-90eb-ca2acdaa804e",
   "metadata": {
    "tags": []
   },
   "outputs": [
    {
     "data": {
      "text/plain": [
       "<matplotlib.collections.PathCollection at 0x147f2c0491d0>"
      ]
     },
     "execution_count": 12,
     "metadata": {},
     "output_type": "execute_result"
    },
    {
     "data": {
      "image/png": "[encoded data removed]",
      "text/plain": [
       "<Figure size 640x480 with 1 Axes>"
      ]
     },
     "metadata": {},
     "output_type": "display_data"
    }
   ],
   "source": [
    "plt.scatter(path[:,0], path[:,1])"
   ]
  },
  {
   "cell_type": "code",
   "execution_count": 16,
   "id": "0e6fc868-293c-46f2-a137-95d152ef60f2",
   "metadata": {
    "tags": []
   },
   "outputs": [
    {
     "name": "stdout",
     "output_type": "stream",
     "text": [
      "Generation 1, Best Score: -4.51\n",
      "Generation 2, Best Score: -3.00\n",
      "Generation 3, Best Score: -1.52\n",
      "Generation 4, Best Score: 0.92\n",
      "Generation 5, Best Score: 3.56\n",
      "Generation 6, Best Score: 20.38\n",
      "Generation 7, Best Score: 249.35\n",
      "Generation 8, Best Score: 244.41\n",
      "Generation 9, Best Score: 236.91\n",
      "Generation 10, Best Score: 292.80\n",
      "Generation 11, Best Score: 309.53\n",
      "Generation 12, Best Score: 322.29\n",
      "Generation 13, Best Score: 338.76\n",
      "Generation 14, Best Score: 341.71\n",
      "Generation 15, Best Score: 342.75\n"
     ]
    }
   ],
   "source": [
    "class CustomTrackEnv:\n",
    "    def __init__(self, path_file='path.npy', track_radius=0.2):\n",
    "        self.centerline = np.load(path_file)\n",
    "        self.centerline = self.centerline - np.mean(self.centerline, axis=0)\n",
    "        self.centerline = self.centerline / np.max(np.abs(self.centerline))  # scale to [-1, 1]\n",
    "        self.track_radius = track_radius\n",
    "        self.center = np.mean(self.centerline, axis=0)  # center of mass of the track\n",
    "        self.reset()\n",
    "\n",
    "    def reset(self):\n",
    "        self.car_pos = np.copy(self.centerline[0])\n",
    "        self.car_vel = 0.1\n",
    "        direction = self.centerline[1] - self.centerline[0]\n",
    "        self.car_angle = np.pi / 2  # Face upward\n",
    "        self.done = False\n",
    "        self.passed_checkpoints = np.zeros(len(self.centerline), dtype=bool)\n",
    "        return self.get_observation()\n",
    "\n",
    "    def is_on_track(self, point):\n",
    "        return np.any(np.linalg.norm(self.centerline - point, axis=1) < self.track_radius)\n",
    "\n",
    "    def get_observation(self):\n",
    "        angles = [-np.pi/4, -np.pi/9, 0, np.pi/9, np.pi/4]\n",
    "        max_dist = 3.0\n",
    "        distances = []\n",
    "        for offset in angles:\n",
    "            direction = np.array([\n",
    "                np.cos(self.car_angle + offset),\n",
    "                np.sin(self.car_angle + offset)\n",
    "            ])\n",
    "            for d in np.linspace(0, max_dist, 30):\n",
    "                probe = self.car_pos + d * direction\n",
    "                if not self.is_on_track(probe):\n",
    "                    distances.append(d)\n",
    "                    break\n",
    "            else:\n",
    "                distances.append(max_dist)\n",
    "        return np.array(distances)\n",
    "\n",
    "    def step(self, action):\n",
    "        steer, throttle = np.clip(action, -1, 1)\n",
    "        self.car_angle += steer * 0.1\n",
    "        self.car_vel = np.clip(self.car_vel + throttle * 0.01, 0.05, 0.2)\n",
    "        forward = np.array([np.cos(self.car_angle), np.sin(self.car_angle)])\n",
    "        self.car_pos += self.car_vel * forward\n",
    "\n",
    "        if not self.is_on_track(self.car_pos):\n",
    "            self.done = True\n",
    "            return self.get_observation(), -10, self.done\n",
    "\n",
    "        # Directional reward\n",
    "        next_idx = self._closest_checkpoint_index()\n",
    "        dir_to_next = self.centerline[next_idx] - self.car_pos\n",
    "        dir_to_next /= np.linalg.norm(dir_to_next)\n",
    "        directional_alignment = np.dot(dir_to_next, forward)\n",
    "\n",
    "        # Track progress\n",
    "        for i, point in enumerate(self.centerline):\n",
    "            if not self.passed_checkpoints[i] and np.linalg.norm(self.car_pos - point) < self.track_radius / 2:\n",
    "                self.passed_checkpoints[i] = True\n",
    "\n",
    "        # CCW reward via center of mass\n",
    "        r = self.car_pos - self.center\n",
    "        cross_z = r[0] * forward[1] - r[1] * forward[0]\n",
    "        rotation_reward = np.sign(cross_z) * 0.2  # reward +0.2 for CCW, -0.2 for CW\n",
    "\n",
    "        obs = self.get_observation()\n",
    "        progress_bonus = np.sum(self.passed_checkpoints) / len(self.centerline)\n",
    "        reward = self.car_vel + 0.1 * directional_alignment + 2.0 * progress_bonus + rotation_reward\n",
    "        return obs, reward, self.done\n",
    "\n",
    "    def _closest_checkpoint_index(self):\n",
    "        distances = np.linalg.norm(self.centerline - self.car_pos, axis=1)\n",
    "        return np.argmin(distances)\n",
    "\n",
    "    def render(self, title=None):\n",
    "        fig, ax = plt.subplots()\n",
    "        ax.plot(self.centerline[:, 0], self.centerline[:, 1], 'k--', label='Centerline')\n",
    "        for p in self.centerline:\n",
    "            circle = plt.Circle(p, self.track_radius, color='lightgray', alpha=0.3)\n",
    "            ax.add_patch(circle)\n",
    "        ax.plot(self.car_pos[0], self.car_pos[1], 'ro', label='Car')\n",
    "\n",
    "        # Draw center of mass\n",
    "        ax.plot(self.center[0], self.center[1], 'gx', label='Center of Mass')\n",
    "\n",
    "        # Sensor rays\n",
    "        angles = [-np.pi/4, -np.pi/9, 0, np.pi/9, np.pi/4]\n",
    "        obs = self.get_observation()\n",
    "        for i, offset in enumerate(angles):\n",
    "            d = obs[i]\n",
    "            dir = np.array([np.cos(self.car_angle + offset), np.sin(self.car_angle + offset)])\n",
    "            end = self.car_pos + dir * d\n",
    "            ax.plot([self.car_pos[0], end[0]], [self.car_pos[1], end[1]], color='cyan')\n",
    "\n",
    "        if title:\n",
    "            ax.set_title(title)\n",
    "\n",
    "        ax.set_xlim(-1.5, 1.5)\n",
    "        ax.set_ylim(-1.5, 1.5)\n",
    "        ax.set_aspect('equal')\n",
    "        ax.axis('off')\n",
    "        ax.legend(loc='upper right')\n",
    "        fig.canvas.draw()\n",
    "        image = np.frombuffer(fig.canvas.buffer_rgba(), dtype='uint8')\n",
    "        image = image.reshape(fig.canvas.get_width_height()[::-1] + (4,))\n",
    "        plt.close(fig)\n",
    "        return image\n",
    "\n",
    "def simple_policy(obs, weights):\n",
    "    return np.tanh(np.dot(weights, obs))\n",
    "\n",
    "def mutate(weights, mutation_rate=0.05):\n",
    "    return weights + mutation_rate * np.random.randn(*weights.shape)\n",
    "\n",
    "if __name__ == '__main__':\n",
    "    generations = 15\n",
    "    population_size = 20\n",
    "    input_size = 5\n",
    "    mutation_rate = 0.2\n",
    "    frames = []\n",
    "\n",
    "    agents = [np.random.randn(2, input_size) for _ in range(population_size)]\n",
    "\n",
    "    for gen in range(generations):\n",
    "        scores = []\n",
    "        for i, agent in enumerate(agents):\n",
    "            env = CustomTrackEnv()\n",
    "            obs = env.reset()\n",
    "            total_reward = 0\n",
    "            steps = 0\n",
    "            while not env.done and steps < 200:\n",
    "                action = simple_policy(obs, agent)\n",
    "                obs, reward, done = env.step(action)\n",
    "                if i == 0:\n",
    "                    frames.append(env.render(title=f\"Generation {gen + 1}\"))\n",
    "                total_reward += reward\n",
    "                steps += 1\n",
    "            scores.append(total_reward)\n",
    "\n",
    "        best_indices = np.argsort(scores)[-5:]\n",
    "        best_agents = [agents[i] for i in best_indices]\n",
    "        agents = []\n",
    "        for parent in best_agents:\n",
    "            for _ in range(population_size // len(best_agents)):\n",
    "                agents.append(mutate(parent, mutation_rate))\n",
    "        print(f\"Generation {gen + 1}, Best Score: {scores[best_indices[-1]]:.2f}\")\n",
    "        if scores[best_indices[-1]] > 2000:\n",
    "            print('we got beyond 200! finishing to learn now')\n",
    "            break\n",
    "\n",
    "    # imageio.mimsave('race_learning_custom_direction.gif', frames, duration=1/30)\n",
    "    imageio.mimsave(\"race_learning_custom_direction.mp4\", frames, fps=30, codec='libx264')\n",
    "\n"
   ]
  },
  {
   "cell_type": "code",
   "execution_count": null,
   "id": "a1a690df-982b-4c90-966e-f43ca3595b76",
   "metadata": {},
   "outputs": [],
   "source": []
  }
 ],
 "metadata": {
  "kernelspec": {
   "display_name": "Python 3 (ipykernel)",
   "language": "python",
   "name": "python3"
  },
  "language_info": {
   "codemirror_mode": {
    "name": "ipython",
    "version": 3
   },
   "file_extension": ".py",
   "mimetype": "text/x-python",
   "name": "python",
   "nbconvert_exporter": "python",
   "pygments_lexer": "ipython3",
   "version": "3.7.4"
  }
 },
 "nbformat": 4,
 "nbformat_minor": 5
}
